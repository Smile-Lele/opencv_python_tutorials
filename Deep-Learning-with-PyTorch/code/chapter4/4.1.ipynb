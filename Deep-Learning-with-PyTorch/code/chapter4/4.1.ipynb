{
 "cells": [
  {
   "cell_type": "markdown",
   "metadata": {},
   "source": [
    "# 4.1 学习就是参数估计"
   ]
  },
  {
   "cell_type": "code",
   "execution_count": 1,
   "metadata": {
    "collapsed": true
   },
   "outputs": [],
   "source": [
    "import torch"
   ]
  },
  {
   "cell_type": "markdown",
   "metadata": {},
   "source": [
    "## 4.1.1 一个热门的问题"
   ]
  },
  {
   "cell_type": "code",
   "execution_count": 2,
   "metadata": {
    "collapsed": true
   },
   "outputs": [],
   "source": [
    "t_c = [0.5,  14.0, 15.0, 28.0, 11.0,  8.0,  3.0, -4.0,  6.0, 13.0, 21.0]\n",
    "t_u = [35.7, 55.9, 58.2, 81.9, 56.3, 48.9, 33.9, 21.8, 48.4, 60.4, 68.4]\n",
    "t_c = torch.tensor(t_c)\n",
    "t_u = torch.tensor(t_u)"
   ]
  },
  {
   "cell_type": "markdown",
   "metadata": {},
   "source": [
    "## 4.1.4 从问题到PyTorch"
   ]
  },
  {
   "cell_type": "code",
   "execution_count": 3,
   "metadata": {
    "collapsed": true
   },
   "outputs": [],
   "source": [
    "def model(t_u, w, b):\n",
    "    return w * t_u + b"
   ]
  },
  {
   "cell_type": "code",
   "execution_count": 4,
   "metadata": {
    "collapsed": true
   },
   "outputs": [],
   "source": [
    "def loss_fn(t_p, t_c):\n",
    "    squared_diffs = (t_p - t_c)**2\n",
    "    return squared_diffs.mean()"
   ]
  },
  {
   "cell_type": "code",
   "execution_count": 5,
   "metadata": {},
   "outputs": [
    {
     "data": {
      "text/plain": [
       "tensor([35.7000, 55.9000, 58.2000, 81.9000, 56.3000, 48.9000, 33.9000, 21.8000,\n",
       "        48.4000, 60.4000, 68.4000])"
      ]
     },
     "execution_count": 5,
     "metadata": {},
     "output_type": "execute_result"
    }
   ],
   "source": [
    "w = torch.ones(1)\n",
    "b = torch.zeros(1)\n",
    "t_p = model(t_u, w, b)\n",
    "t_p"
   ]
  },
  {
   "cell_type": "code",
   "execution_count": 6,
   "metadata": {},
   "outputs": [
    {
     "data": {
      "text/plain": [
       "tensor(1763.8846)"
      ]
     },
     "execution_count": 6,
     "metadata": {},
     "output_type": "execute_result"
    }
   ],
   "source": [
    "loss = loss_fn(t_p, t_c)\n",
    "loss"
   ]
  },
  {
   "cell_type": "markdown",
   "metadata": {},
   "source": [
    "## 4.1.5 沿梯度向下"
   ]
  },
  {
   "cell_type": "code",
   "execution_count": 7,
   "metadata": {},
   "outputs": [],
   "source": [
    "delta = 0.1\n",
    "loss_rate_of_change_w = \\\n",
    "    (loss_fn(model(t_u, w + delta, b), t_c) -\n",
    "     loss_fn(model(t_u, w - delta, b), t_c)) / (2.0 * delta)"
   ]
  },
  {
   "cell_type": "code",
   "execution_count": 8,
   "metadata": {
    "collapsed": true
   },
   "outputs": [],
   "source": [
    "learning_rate = 1e-2\n",
    "w = w - learning_rate * loss_rate_of_change_w"
   ]
  },
  {
   "cell_type": "code",
   "execution_count": 9,
   "metadata": {
    "collapsed": true
   },
   "outputs": [],
   "source": [
    "loss_rate_of_change_b = \\\n",
    "    (loss_fn(model(t_u, w, b + delta), t_c) -\n",
    "     loss_fn(model(t_u, w, b - delta), t_c)) / (2.0 * delta)\n",
    "b = b - learning_rate * loss_rate_of_change_b"
   ]
  },
  {
   "cell_type": "markdown",
   "metadata": {},
   "source": [
    "## 4.1.6 进行分析"
   ]
  },
  {
   "cell_type": "code",
   "execution_count": 10,
   "metadata": {
    "collapsed": true
   },
   "outputs": [],
   "source": [
    "def loss_fn(t_p, t_c):\n",
    "    squared_diffs = (t_p - t_c)**2\n",
    "    return squared_diffs.mean()"
   ]
  },
  {
   "cell_type": "code",
   "execution_count": 11,
   "metadata": {
    "collapsed": true
   },
   "outputs": [],
   "source": [
    "def dloss_fn(t_p, t_c):\n",
    "    dsq_diffs = 2 * (t_p - t_c)\n",
    "    return dsq_diffs"
   ]
  },
  {
   "cell_type": "code",
   "execution_count": 12,
   "metadata": {
    "collapsed": true
   },
   "outputs": [],
   "source": [
    "def model(t_u, w, b):\n",
    "    return w * t_u + b"
   ]
  },
  {
   "cell_type": "code",
   "execution_count": 13,
   "metadata": {
    "collapsed": true
   },
   "outputs": [],
   "source": [
    "def dmodel_dw(t_u, w, b):\n",
    "    return t_u\n",
    "\n",
    "def dmodel_db(t_u, w, b):\n",
    "    return 1.0"
   ]
  },
  {
   "cell_type": "code",
   "execution_count": 14,
   "metadata": {
    "collapsed": true
   },
   "outputs": [],
   "source": [
    "def grad_fn(t_u, t_c, t_p, w, b):\n",
    "    dloss_dw = dloss_fn(t_p, t_c) * dmodel_dw(t_u, w, b)\n",
    "    dloss_db = dloss_fn(t_p, t_c) * dmodel_db(t_u, w, b)\n",
    "    return torch.stack([dloss_dw.mean(), dloss_db.mean()])"
   ]
  },
  {
   "cell_type": "markdown",
   "metadata": {},
   "source": [
    "## 4.1.7 训练循环"
   ]
  },
  {
   "cell_type": "code",
   "execution_count": 15,
   "metadata": {
    "collapsed": true
   },
   "outputs": [],
   "source": [
    "def training_loop(n_epochs, learning_rate, params, t_u, t_c, print_params = True, verbose=1):\n",
    "    for epoch in range(1, n_epochs + 1):\n",
    "        w, b = params\n",
    "        \n",
    "        t_p = model(t_u, w, b) # 前向传播\n",
    "        loss = loss_fn(t_p, t_c)\n",
    "        grad = grad_fn(t_u, t_c, t_p, w, b) # 反向传播\n",
    "        \n",
    "        params = params - learning_rate * grad\n",
    "        \n",
    "        if epoch % verbose == 0:\n",
    "            print('Epoch %d, Loss %f' % (epoch, float(loss)))\n",
    "            if print_params:\n",
    "                print('    Params: ', params)\n",
    "                print('    Grad  : ', grad)\n",
    "    return params"
   ]
  },
  {
   "cell_type": "code",
   "execution_count": 16,
   "metadata": {
    "scrolled": false
   },
   "outputs": [
    {
     "name": "stdout",
     "output_type": "stream",
     "text": [
      "Epoch 1, Loss 1763.884644\n",
      "    Params:  tensor([-44.1730,  -0.8260])\n",
      "    Grad  :  tensor([4517.2964,   82.6000])\n",
      "Epoch 2, Loss 5802484.500000\n",
      "    Params:  tensor([2568.4011,   45.1637])\n",
      "    Grad  :  tensor([-261257.4062,   -4598.9707])\n",
      "Epoch 3, Loss 19408031744.000000\n",
      "    Params:  tensor([-148527.7344,   -2616.3933])\n",
      "    Grad  :  tensor([15109615.0000,   266155.7188])\n",
      "Epoch 4, Loss 64915909902336.000000\n",
      "    Params:  tensor([8589997.0000,  151310.8750])\n",
      "    Grad  :  tensor([-8.7385e+08, -1.5393e+07])\n",
      "Epoch 5, Loss 217130439561707520.000000\n",
      "    Params:  tensor([-4.9680e+08, -8.7510e+06])\n",
      "    Grad  :  tensor([5.0539e+10, 8.9023e+08])\n",
      "Epoch 6, Loss 726257020202974707712.000000\n",
      "    Params:  tensor([2.8732e+10, 5.0610e+08])\n",
      "    Grad  :  tensor([-2.9229e+12, -5.1486e+10])\n",
      "Epoch 7, Loss 2429181687085405986357248.000000\n",
      "    Params:  tensor([-1.6617e+12, -2.9270e+10])\n",
      "    Grad  :  tensor([1.6904e+14, 2.9776e+12])\n",
      "Epoch 8, Loss 8125117236949438203699396608.000000\n",
      "    Params:  tensor([9.6102e+13, 1.6928e+12])\n",
      "    Grad  :  tensor([-9.7764e+15, -1.7221e+14])\n",
      "Epoch 9, Loss 27176865195881116022129584766976.000000\n",
      "    Params:  tensor([-5.5580e+15, -9.7903e+13])\n",
      "    Grad  :  tensor([5.6541e+17, 9.9596e+15])\n",
      "Epoch 10, Loss 90901075478458130961171361977860096.000000\n",
      "    Params:  tensor([3.2144e+17, 5.6621e+15])\n",
      "    Grad  :  tensor([-3.2700e+19, -5.7600e+17])\n"
     ]
    },
    {
     "data": {
      "text/plain": [
       "tensor([3.2144e+17, 5.6621e+15])"
      ]
     },
     "execution_count": 16,
     "metadata": {},
     "output_type": "execute_result"
    }
   ],
   "source": [
    "training_loop(\n",
    "            n_epochs = 10,\n",
    "            learning_rate = 1e-2,\n",
    "            params = torch.tensor([1.0, 0.0]),\n",
    "            t_u = t_u,\n",
    "            t_c = t_c)"
   ]
  },
  {
   "cell_type": "code",
   "execution_count": 17,
   "metadata": {},
   "outputs": [
    {
     "name": "stdout",
     "output_type": "stream",
     "text": [
      "Epoch 1, Loss 1763.884644\n",
      "    Params:  tensor([ 0.5483, -0.0083])\n",
      "    Grad  :  tensor([4517.2964,   82.6000])\n",
      "Epoch 2, Loss 323.090546\n",
      "    Params:  tensor([ 0.3623, -0.0118])\n",
      "    Grad  :  tensor([1859.5493,   35.7843])\n",
      "Epoch 3, Loss 78.929634\n",
      "    Params:  tensor([ 0.2858, -0.0135])\n",
      "    Grad  :  tensor([765.4666,  16.5122])\n",
      "Epoch 4, Loss 37.552845\n",
      "    Params:  tensor([ 0.2543, -0.0143])\n",
      "    Grad  :  tensor([315.0790,   8.5787])\n",
      "Epoch 5, Loss 30.540285\n",
      "    Params:  tensor([ 0.2413, -0.0149])\n",
      "    Grad  :  tensor([129.6733,   5.3127])\n",
      "Epoch 6, Loss 29.351152\n",
      "    Params:  tensor([ 0.2360, -0.0153])\n",
      "    Grad  :  tensor([53.3496,  3.9682])\n",
      "Epoch 7, Loss 29.148882\n",
      "    Params:  tensor([ 0.2338, -0.0156])\n",
      "    Grad  :  tensor([21.9304,  3.4148])\n",
      "Epoch 8, Loss 29.113848\n",
      "    Params:  tensor([ 0.2329, -0.0159])\n",
      "    Grad  :  tensor([8.9964, 3.1869])\n",
      "Epoch 9, Loss 29.107145\n",
      "    Params:  tensor([ 0.2325, -0.0162])\n",
      "    Grad  :  tensor([3.6721, 3.0930])\n",
      "Epoch 10, Loss 29.105242\n",
      "    Params:  tensor([ 0.2324, -0.0166])\n",
      "    Grad  :  tensor([1.4803, 3.0544])\n"
     ]
    },
    {
     "data": {
      "text/plain": [
       "tensor([ 0.2324, -0.0166])"
      ]
     },
     "execution_count": 17,
     "metadata": {},
     "output_type": "execute_result"
    }
   ],
   "source": [
    "training_loop(\n",
    "            n_epochs = 10,\n",
    "            learning_rate = 1e-4,\n",
    "            params = torch.tensor([1.0, 0.0]),\n",
    "            t_u = t_u,\n",
    "            t_c = t_c)"
   ]
  },
  {
   "cell_type": "code",
   "execution_count": 18,
   "metadata": {
    "collapsed": true
   },
   "outputs": [],
   "source": [
    "t_un = 0.1 * t_u"
   ]
  },
  {
   "cell_type": "code",
   "execution_count": 19,
   "metadata": {},
   "outputs": [
    {
     "name": "stdout",
     "output_type": "stream",
     "text": [
      "Epoch 1, Loss 80.364342\n",
      "    Params:  tensor([1.7761, 0.1064])\n",
      "    Grad  :  tensor([-77.6140, -10.6400])\n",
      "Epoch 2, Loss 37.574917\n",
      "    Params:  tensor([2.0848, 0.1303])\n",
      "    Grad  :  tensor([-30.8623,  -2.3864])\n",
      "Epoch 3, Loss 30.871077\n",
      "    Params:  tensor([2.2094, 0.1217])\n",
      "    Grad  :  tensor([-12.4631,   0.8587])\n",
      "Epoch 4, Loss 29.756193\n",
      "    Params:  tensor([2.2616, 0.1004])\n",
      "    Grad  :  tensor([-5.2218,  2.1327])\n",
      "Epoch 5, Loss 29.507149\n",
      "    Params:  tensor([2.2853, 0.0740])\n",
      "    Grad  :  tensor([-2.3715,  2.6310])\n",
      "Epoch 6, Loss 29.392458\n",
      "    Params:  tensor([2.2978, 0.0458])\n",
      "    Grad  :  tensor([-1.2492,  2.8241])\n",
      "Epoch 7, Loss 29.298828\n",
      "    Params:  tensor([2.3059, 0.0168])\n",
      "    Grad  :  tensor([-0.8071,  2.8970])\n",
      "Epoch 8, Loss 29.208717\n",
      "    Params:  tensor([ 2.3122, -0.0124])\n",
      "    Grad  :  tensor([-0.6325,  2.9227])\n",
      "Epoch 9, Loss 29.119417\n",
      "    Params:  tensor([ 2.3178, -0.0417])\n",
      "    Grad  :  tensor([-0.5633,  2.9298])\n",
      "Epoch 10, Loss 29.030487\n",
      "    Params:  tensor([ 2.3232, -0.0710])\n",
      "    Grad  :  tensor([-0.5355,  2.9295])\n"
     ]
    },
    {
     "data": {
      "text/plain": [
       "tensor([ 2.3232, -0.0710])"
      ]
     },
     "execution_count": 19,
     "metadata": {},
     "output_type": "execute_result"
    }
   ],
   "source": [
    "training_loop(\n",
    "    n_epochs = 10,\n",
    "    learning_rate = 1e-2,\n",
    "    params = torch.tensor([1.0, 0.0]),\n",
    "    t_u = t_un, # 规范化后的输入\n",
    "    t_c = t_c)"
   ]
  },
  {
   "cell_type": "code",
   "execution_count": 20,
   "metadata": {},
   "outputs": [
    {
     "name": "stdout",
     "output_type": "stream",
     "text": [
      "Epoch 500, Loss 7.860116\n",
      "Epoch 1000, Loss 3.828538\n",
      "Epoch 1500, Loss 3.092191\n",
      "Epoch 2000, Loss 2.957697\n",
      "Epoch 2500, Loss 2.933134\n",
      "Epoch 3000, Loss 2.928648\n",
      "Epoch 3500, Loss 2.927831\n",
      "Epoch 4000, Loss 2.927680\n",
      "Epoch 4500, Loss 2.927651\n",
      "Epoch 5000, Loss 2.927648\n"
     ]
    },
    {
     "data": {
      "text/plain": [
       "tensor([  5.3671, -17.3012])"
      ]
     },
     "execution_count": 20,
     "metadata": {},
     "output_type": "execute_result"
    }
   ],
   "source": [
    "params = training_loop(\n",
    "    n_epochs = 5000,\n",
    "    learning_rate = 1e-2,\n",
    "    params = torch.tensor([1.0, 0.0]),\n",
    "    t_u = t_un,\n",
    "    t_c = t_c,\n",
    "    print_params = False,\n",
    "    verbose=500)\n",
    "params"
   ]
  },
  {
   "cell_type": "code",
   "execution_count": 21,
   "metadata": {
    "collapsed": true
   },
   "outputs": [],
   "source": [
    "%matplotlib inline\n",
    "from matplotlib import pyplot as plt\n",
    "\n",
    "t_p = model(t_un, *params) # 记住你是在规范后数据上训练的"
   ]
  },
  {
   "cell_type": "code",
   "execution_count": 22,
   "metadata": {},
   "outputs": [
    {
     "data": {
      "text/plain": [
       "[<matplotlib.lines.Line2D at 0x112f642e8>]"
      ]
     },
     "execution_count": 22,
     "metadata": {},
     "output_type": "execute_result"
    },
    {
     "data": {
      "image/png": "[encoded data removed]",
      "text/plain": [
       "<matplotlib.figure.Figure at 0x112f68978>"
      ]
     },
     "metadata": {},
     "output_type": "display_data"
    }
   ],
   "source": [
    "fig = plt.figure()\n",
    "plt.xlabel(\"Fahrenheit\")\n",
    "plt.ylabel(\"Celsius\")\n",
    "\n",
    "plt.plot(t_u.numpy(), t_p.detach().numpy()) # 在原数据上作图\n",
    "plt.plot(t_u.numpy(), t_c.numpy(), 'o')"
   ]
  },
  {
   "cell_type": "code",
   "execution_count": null,
   "metadata": {
    "collapsed": true
   },
   "outputs": [],
   "source": []
  }
 ],
 "metadata": {
  "kernelspec": {
   "display_name": "Python 3",
   "language": "python",
   "name": "python3"
  },
  "language_info": {
   "codemirror_mode": {
    "name": "ipython",
    "version": 3
   },
   "file_extension": ".py",
   "mimetype": "text/x-python",
   "name": "python",
   "nbconvert_exporter": "python",
   "pygments_lexer": "ipython3",
   "version": "3.6.2"
  }
 },
 "nbformat": 4,
 "nbformat_minor": 2
}
